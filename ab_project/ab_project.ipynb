{
 "cells": [
  {
   "cell_type": "markdown",
   "metadata": {},
   "source": [
    "Задание 1. А/В-тестирование."
   ]
  },
  {
   "cell_type": "markdown",
   "metadata": {},
   "source": [
    "Импортирую необходимые библиотеки:"
   ]
  },
  {
   "cell_type": "code",
   "execution_count": 1,
   "metadata": {},
   "outputs": [],
   "source": [
    "import pandas as pd\n",
    "\n",
    "import numpy as np\n",
    "\n",
    "from scipy import stats\n",
    "\n",
    "import matplotlib.pyplot as plt\n",
    "\n",
    "import seaborn as sns"
   ]
  },
  {
   "cell_type": "code",
   "execution_count": 12,
   "metadata": {},
   "outputs": [],
   "source": [
    "import os\n",
    "\n",
    "folder_path = r'/mnt/HC_Volume_18315164/home-jupyter/jupyter-enzhe-sultanova-bh-bab0f/My_Folder/Final/'\n",
    "\n",
    "# Чтение файлов\n",
    "groups = pd.read_csv(os.path.join(folder_path, 'groups.csv'), encoding='Windows-1251', sep=';')\n",
    "groups_add = pd.read_csv(os.path.join(folder_path, 'group_add.csv'), encoding='Windows-1251', sep=',')\n",
    "active_studs = pd.read_csv(os.path.join(folder_path, 'active_studs.csv'), encoding='Windows-1251', sep=';')\n",
    "checks = pd.read_csv(os.path.join(folder_path, 'checks.csv'), encoding='Windows-1251', sep=';')"
   ]
  },
  {
   "cell_type": "code",
   "execution_count": 13,
   "metadata": {},
   "outputs": [
    {
     "data": {
      "text/html": [
       "<div>\n",
       "<style scoped>\n",
       "    .dataframe tbody tr th:only-of-type {\n",
       "        vertical-align: middle;\n",
       "    }\n",
       "\n",
       "    .dataframe tbody tr th {\n",
       "        vertical-align: top;\n",
       "    }\n",
       "\n",
       "    .dataframe thead th {\n",
       "        text-align: right;\n",
       "    }\n",
       "</style>\n",
       "<table border=\"1\" class=\"dataframe\">\n",
       "  <thead>\n",
       "    <tr style=\"text-align: right;\">\n",
       "      <th></th>\n",
       "      <th>id</th>\n",
       "      <th>grp</th>\n",
       "    </tr>\n",
       "  </thead>\n",
       "  <tbody>\n",
       "    <tr>\n",
       "      <th>0</th>\n",
       "      <td>1489</td>\n",
       "      <td>B</td>\n",
       "    </tr>\n",
       "    <tr>\n",
       "      <th>1</th>\n",
       "      <td>1627</td>\n",
       "      <td>A</td>\n",
       "    </tr>\n",
       "    <tr>\n",
       "      <th>2</th>\n",
       "      <td>1768</td>\n",
       "      <td>B</td>\n",
       "    </tr>\n",
       "    <tr>\n",
       "      <th>3</th>\n",
       "      <td>1783</td>\n",
       "      <td>B</td>\n",
       "    </tr>\n",
       "    <tr>\n",
       "      <th>4</th>\n",
       "      <td>1794</td>\n",
       "      <td>A</td>\n",
       "    </tr>\n",
       "  </tbody>\n",
       "</table>\n",
       "</div>"
      ],
      "text/plain": [
       "     id grp\n",
       "0  1489   B\n",
       "1  1627   A\n",
       "2  1768   B\n",
       "3  1783   B\n",
       "4  1794   A"
      ]
     },
     "execution_count": 13,
     "metadata": {},
     "output_type": "execute_result"
    }
   ],
   "source": [
    "groups.head()"
   ]
  },
  {
   "cell_type": "code",
   "execution_count": 14,
   "metadata": {},
   "outputs": [
    {
     "data": {
      "text/html": [
       "<div>\n",
       "<style scoped>\n",
       "    .dataframe tbody tr th:only-of-type {\n",
       "        vertical-align: middle;\n",
       "    }\n",
       "\n",
       "    .dataframe tbody tr th {\n",
       "        vertical-align: top;\n",
       "    }\n",
       "\n",
       "    .dataframe thead th {\n",
       "        text-align: right;\n",
       "    }\n",
       "</style>\n",
       "<table border=\"1\" class=\"dataframe\">\n",
       "  <thead>\n",
       "    <tr style=\"text-align: right;\">\n",
       "      <th></th>\n",
       "      <th>id</th>\n",
       "      <th>grp</th>\n",
       "    </tr>\n",
       "  </thead>\n",
       "  <tbody>\n",
       "    <tr>\n",
       "      <th>0</th>\n",
       "      <td>5694584</td>\n",
       "      <td>B</td>\n",
       "    </tr>\n",
       "    <tr>\n",
       "      <th>1</th>\n",
       "      <td>5694830</td>\n",
       "      <td>B</td>\n",
       "    </tr>\n",
       "    <tr>\n",
       "      <th>2</th>\n",
       "      <td>5695057</td>\n",
       "      <td>B</td>\n",
       "    </tr>\n",
       "    <tr>\n",
       "      <th>3</th>\n",
       "      <td>5698872</td>\n",
       "      <td>B</td>\n",
       "    </tr>\n",
       "    <tr>\n",
       "      <th>4</th>\n",
       "      <td>5699067</td>\n",
       "      <td>B</td>\n",
       "    </tr>\n",
       "  </tbody>\n",
       "</table>\n",
       "</div>"
      ],
      "text/plain": [
       "        id grp\n",
       "0  5694584   B\n",
       "1  5694830   B\n",
       "2  5695057   B\n",
       "3  5698872   B\n",
       "4  5699067   B"
      ]
     },
     "execution_count": 14,
     "metadata": {},
     "output_type": "execute_result"
    }
   ],
   "source": [
    "groups_add.head()"
   ]
  },
  {
   "cell_type": "code",
   "execution_count": 15,
   "metadata": {},
   "outputs": [
    {
     "data": {
      "text/html": [
       "<div>\n",
       "<style scoped>\n",
       "    .dataframe tbody tr th:only-of-type {\n",
       "        vertical-align: middle;\n",
       "    }\n",
       "\n",
       "    .dataframe tbody tr th {\n",
       "        vertical-align: top;\n",
       "    }\n",
       "\n",
       "    .dataframe thead th {\n",
       "        text-align: right;\n",
       "    }\n",
       "</style>\n",
       "<table border=\"1\" class=\"dataframe\">\n",
       "  <thead>\n",
       "    <tr style=\"text-align: right;\">\n",
       "      <th></th>\n",
       "      <th>student_id</th>\n",
       "    </tr>\n",
       "  </thead>\n",
       "  <tbody>\n",
       "    <tr>\n",
       "      <th>0</th>\n",
       "      <td>581585</td>\n",
       "    </tr>\n",
       "    <tr>\n",
       "      <th>1</th>\n",
       "      <td>5723133</td>\n",
       "    </tr>\n",
       "    <tr>\n",
       "      <th>2</th>\n",
       "      <td>3276743</td>\n",
       "    </tr>\n",
       "    <tr>\n",
       "      <th>3</th>\n",
       "      <td>4238589</td>\n",
       "    </tr>\n",
       "    <tr>\n",
       "      <th>4</th>\n",
       "      <td>4475369</td>\n",
       "    </tr>\n",
       "  </tbody>\n",
       "</table>\n",
       "</div>"
      ],
      "text/plain": [
       "   student_id\n",
       "0      581585\n",
       "1     5723133\n",
       "2     3276743\n",
       "3     4238589\n",
       "4     4475369"
      ]
     },
     "execution_count": 15,
     "metadata": {},
     "output_type": "execute_result"
    }
   ],
   "source": [
    "active_studs.head()"
   ]
  },
  {
   "cell_type": "code",
   "execution_count": 16,
   "metadata": {},
   "outputs": [
    {
     "data": {
      "text/html": [
       "<div>\n",
       "<style scoped>\n",
       "    .dataframe tbody tr th:only-of-type {\n",
       "        vertical-align: middle;\n",
       "    }\n",
       "\n",
       "    .dataframe tbody tr th {\n",
       "        vertical-align: top;\n",
       "    }\n",
       "\n",
       "    .dataframe thead th {\n",
       "        text-align: right;\n",
       "    }\n",
       "</style>\n",
       "<table border=\"1\" class=\"dataframe\">\n",
       "  <thead>\n",
       "    <tr style=\"text-align: right;\">\n",
       "      <th></th>\n",
       "      <th>student_id</th>\n",
       "      <th>rev</th>\n",
       "    </tr>\n",
       "  </thead>\n",
       "  <tbody>\n",
       "    <tr>\n",
       "      <th>0</th>\n",
       "      <td>1627</td>\n",
       "      <td>990.0</td>\n",
       "    </tr>\n",
       "    <tr>\n",
       "      <th>1</th>\n",
       "      <td>3185</td>\n",
       "      <td>690.0</td>\n",
       "    </tr>\n",
       "    <tr>\n",
       "      <th>2</th>\n",
       "      <td>25973</td>\n",
       "      <td>690.0</td>\n",
       "    </tr>\n",
       "    <tr>\n",
       "      <th>3</th>\n",
       "      <td>26280</td>\n",
       "      <td>690.0</td>\n",
       "    </tr>\n",
       "    <tr>\n",
       "      <th>4</th>\n",
       "      <td>100300</td>\n",
       "      <td>990.0</td>\n",
       "    </tr>\n",
       "  </tbody>\n",
       "</table>\n",
       "</div>"
      ],
      "text/plain": [
       "   student_id    rev\n",
       "0        1627  990.0\n",
       "1        3185  690.0\n",
       "2       25973  690.0\n",
       "3       26280  690.0\n",
       "4      100300  990.0"
      ]
     },
     "execution_count": 16,
     "metadata": {},
     "output_type": "execute_result"
    }
   ],
   "source": [
    "checks.head()"
   ]
  },
  {
   "cell_type": "code",
   "execution_count": 17,
   "metadata": {},
   "outputs": [],
   "source": [
    "groups_all = pd.concat([groups, groups_add], ignore_index=True)"
   ]
  },
  {
   "cell_type": "code",
   "execution_count": 18,
   "metadata": {},
   "outputs": [
    {
     "data": {
      "text/html": [
       "<div>\n",
       "<style scoped>\n",
       "    .dataframe tbody tr th:only-of-type {\n",
       "        vertical-align: middle;\n",
       "    }\n",
       "\n",
       "    .dataframe tbody tr th {\n",
       "        vertical-align: top;\n",
       "    }\n",
       "\n",
       "    .dataframe thead th {\n",
       "        text-align: right;\n",
       "    }\n",
       "</style>\n",
       "<table border=\"1\" class=\"dataframe\">\n",
       "  <thead>\n",
       "    <tr style=\"text-align: right;\">\n",
       "      <th></th>\n",
       "      <th>id</th>\n",
       "      <th>grp</th>\n",
       "    </tr>\n",
       "  </thead>\n",
       "  <tbody>\n",
       "    <tr>\n",
       "      <th>0</th>\n",
       "      <td>1489</td>\n",
       "      <td>B</td>\n",
       "    </tr>\n",
       "    <tr>\n",
       "      <th>1</th>\n",
       "      <td>1627</td>\n",
       "      <td>A</td>\n",
       "    </tr>\n",
       "    <tr>\n",
       "      <th>2</th>\n",
       "      <td>1768</td>\n",
       "      <td>B</td>\n",
       "    </tr>\n",
       "    <tr>\n",
       "      <th>3</th>\n",
       "      <td>1783</td>\n",
       "      <td>B</td>\n",
       "    </tr>\n",
       "    <tr>\n",
       "      <th>4</th>\n",
       "      <td>1794</td>\n",
       "      <td>A</td>\n",
       "    </tr>\n",
       "  </tbody>\n",
       "</table>\n",
       "</div>"
      ],
      "text/plain": [
       "     id grp\n",
       "0  1489   B\n",
       "1  1627   A\n",
       "2  1768   B\n",
       "3  1783   B\n",
       "4  1794   A"
      ]
     },
     "execution_count": 18,
     "metadata": {},
     "output_type": "execute_result"
    }
   ],
   "source": [
    "groups_all.head()"
   ]
  },
  {
   "cell_type": "code",
   "execution_count": 19,
   "metadata": {},
   "outputs": [
    {
     "data": {
      "text/plain": [
       "B    0.80298\n",
       "A    0.19702\n",
       "Name: grp, dtype: float64"
      ]
     },
     "execution_count": 19,
     "metadata": {},
     "output_type": "execute_result"
    }
   ],
   "source": [
    "# доля пользователей по тестовым группам:\n",
    "\n",
    "ab_distribution = groups_all['grp'].value_counts(normalize=True)\n",
    "\n",
    "ab_distribution"
   ]
  },
  {
   "cell_type": "code",
   "execution_count": 20,
   "metadata": {},
   "outputs": [
    {
     "data": {
      "text/plain": [
       "B    59883\n",
       "A    14693\n",
       "Name: grp, dtype: int64"
      ]
     },
     "execution_count": 20,
     "metadata": {},
     "output_type": "execute_result"
    }
   ],
   "source": [
    "# распределение по количеству:\n",
    "\n",
    "ab_cnt = groups_all['grp'].value_counts()\n",
    "\n",
    "ab_cnt"
   ]
  },
  {
   "cell_type": "code",
   "execution_count": 21,
   "metadata": {},
   "outputs": [],
   "source": [
    "groups_all = groups_all.rename(columns={'id':'student_id'})"
   ]
  },
  {
   "cell_type": "code",
   "execution_count": 22,
   "metadata": {},
   "outputs": [],
   "source": [
    "# формирую датафрейм только с активными пользователями:\n",
    "\n",
    "active_groups = pd.merge(groups_all, active_studs, on='student_id', how='inner')"
   ]
  },
  {
   "cell_type": "code",
   "execution_count": 23,
   "metadata": {},
   "outputs": [
    {
     "name": "stdout",
     "output_type": "stream",
     "text": [
      "Количество платящих НЕактивных: 149\n"
     ]
    }
   ],
   "source": [
    "# проверяю есть ли в checks платежи от неактивных пользователей:\n",
    "\n",
    "#все активные пользователи\n",
    "active = set(active_studs['student_id'])\n",
    "#все, кто совершил платеж\n",
    "paying = set(checks['student_id'])\n",
    "\n",
    "paying_not_active = paying - active\n",
    "print(f\"Количество платящих НЕактивных: {len(paying_not_active)}\")"
   ]
  },
  {
   "cell_type": "code",
   "execution_count": 24,
   "metadata": {},
   "outputs": [],
   "source": [
    "# добавляю инфо об оплатах только для активных пользователей:\n",
    "\n",
    "active_groups_all = pd.merge(active_groups, checks, on='student_id', how='left')"
   ]
  },
  {
   "cell_type": "code",
   "execution_count": 25,
   "metadata": {},
   "outputs": [],
   "source": [
    "active_groups_all = active_groups_all.dropna()  #удаляю неактивных (строки с пустыми rev)"
   ]
  },
  {
   "cell_type": "code",
   "execution_count": 26,
   "metadata": {},
   "outputs": [
    {
     "data": {
      "text/html": [
       "<div>\n",
       "<style scoped>\n",
       "    .dataframe tbody tr th:only-of-type {\n",
       "        vertical-align: middle;\n",
       "    }\n",
       "\n",
       "    .dataframe tbody tr th {\n",
       "        vertical-align: top;\n",
       "    }\n",
       "\n",
       "    .dataframe thead th {\n",
       "        text-align: right;\n",
       "    }\n",
       "</style>\n",
       "<table border=\"1\" class=\"dataframe\">\n",
       "  <thead>\n",
       "    <tr style=\"text-align: right;\">\n",
       "      <th></th>\n",
       "      <th>grp</th>\n",
       "      <th>student_id</th>\n",
       "    </tr>\n",
       "  </thead>\n",
       "  <tbody>\n",
       "    <tr>\n",
       "      <th>0</th>\n",
       "      <td>A</td>\n",
       "      <td>78</td>\n",
       "    </tr>\n",
       "    <tr>\n",
       "      <th>1</th>\n",
       "      <td>B</td>\n",
       "      <td>314</td>\n",
       "    </tr>\n",
       "  </tbody>\n",
       "</table>\n",
       "</div>"
      ],
      "text/plain": [
       "  grp  student_id\n",
       "0   A          78\n",
       "1   B         314"
      ]
     },
     "execution_count": 26,
     "metadata": {},
     "output_type": "execute_result"
    }
   ],
   "source": [
    "# проверяю число активных в группах:\n",
    "\n",
    "active_groups_all.groupby('grp', as_index=False).student_id.count()"
   ]
  },
  {
   "cell_type": "markdown",
   "metadata": {},
   "source": [
    "Распределение неравномерное. Размер целевой группы (В) больше контрольной (А) в ~4 раза."
   ]
  },
  {
   "cell_type": "markdown",
   "metadata": {},
   "source": [
    "Формулирую гипотезы:\n",
    "\n",
    "    Н0 (нулевая) - новая механика оплаты услуг на сайте не повлияла на поведение пользователей, различия в показателях статистически не значимы.\n",
    "\n",
    "    Н1 (альтернативная) - новая механика оплаты услуг повлияла на поведение пользователей, различия статистически значимы."
   ]
  },
  {
   "cell_type": "markdown",
   "metadata": {},
   "source": [
    "Определяю подходящие для анализа метрики:\n",
    "\n",
    "    Средний чек пользователя - метрика покажет, на какую сумму пользователь готов делать покупку\n",
    "\n",
    "    Конверсия в оплату - метрика покажет, изменилась ли доля пользователей, совершивших хотя бы одну оплату\n",
    "\n",
    "    Выручка - метрика покажет, есть ли изменения в общей выручке на группу после изменения механики оплаты (но из-за неравномерного распределения пользователей по группам, данную метрику не стоит рассматривать основной)"
   ]
  },
  {
   "cell_type": "code",
   "execution_count": 27,
   "metadata": {},
   "outputs": [],
   "source": [
    "# разделяю данные по группам\n",
    "\n",
    "group_a = active_groups_all[active_groups_all['grp'] == 'A']\n",
    "\n",
    "group_b = active_groups_all[active_groups_all['grp'] == 'B']\n",
    "\n",
    "all_a = len(active_groups[active_groups['grp'] == 'A'])\n",
    "\n",
    "all_b = len(active_groups[active_groups['grp'] == 'B'])"
   ]
  },
  {
   "cell_type": "code",
   "execution_count": 28,
   "metadata": {},
   "outputs": [],
   "source": [
    "# определяю средний чек в тестовых группах:\n",
    "\n",
    "avg_check_a = round(group_a['rev'].mean(), 1)\n",
    "\n",
    "avg_check_b = round(group_b['rev'].mean(), 1)"
   ]
  },
  {
   "cell_type": "code",
   "execution_count": 29,
   "metadata": {},
   "outputs": [],
   "source": [
    "# конверсия в оплату:\n",
    "\n",
    "paid_a = group_a['student_id'].nunique()\n",
    "\n",
    "paid_b = group_b['student_id'].nunique()\n",
    "\n",
    "cr_a = round(paid_a / all_a * 100, 1)\n",
    "\n",
    "cr_b = round(paid_b / all_b * 100, 1)"
   ]
  },
  {
   "cell_type": "code",
   "execution_count": 30,
   "metadata": {},
   "outputs": [],
   "source": [
    "# общая выручка в тестовых группах:\n",
    "\n",
    "revenue_a = round(group_a['rev'].sum(), 1)\n",
    "\n",
    "revenue_b = round(group_b['rev'].sum(), 1)"
   ]
  },
  {
   "cell_type": "code",
   "execution_count": 31,
   "metadata": {},
   "outputs": [
    {
     "name": "stdout",
     "output_type": "stream",
     "text": [
      "Группа А: средний чек = 933.6 , конверсия = 5.1 , общая выручка = 72820.0\n",
      "Группа В: средний чек = 1257.9 , конверсия = 4.6 , общая выручка = 394974.0\n"
     ]
    }
   ],
   "source": [
    "print('Группа А:', 'средний чек =', avg_check_a, ', конверсия =', cr_a, ', общая выручка =', revenue_a)\n",
    "\n",
    "print('Группа В:', 'средний чек =', avg_check_b, ', конверсия =', cr_b, ', общая выручка =', revenue_b)"
   ]
  },
  {
   "cell_type": "code",
   "execution_count": 32,
   "metadata": {},
   "outputs": [
    {
     "data": {
      "image/png": "[encoded data removed]",
      "text/plain": [
       "<Figure size 1008x864 with 1 Axes>"
      ]
     },
     "metadata": {
      "needs_background": "light"
     },
     "output_type": "display_data"
    }
   ],
   "source": [
    "# визуализация:\n",
    "\n",
    "plt.figure(figsize=(14, 12))\n",
    "\n",
    "sns.boxplot(data=active_groups_all, x=\"grp\", y=\"rev\")\n",
    "\n",
    "plt.title(\"Средний чек в группах\")\n",
    "\n",
    "plt.show()"
   ]
  },
  {
   "cell_type": "markdown",
   "metadata": {},
   "source": [
    "Таким образом, сравнив метрики в тестовых группах видно, что новая механика оплаты услуг не дала прироста конверсии \n",
    "(разница −0.5%), несмотря на то, что средний чек группы В выше."
   ]
  },
  {
   "cell_type": "markdown",
   "metadata": {},
   "source": [
    "Проверка статистической значимости.\n",
    "\n",
    "Для сравнения средний значений показателя 'rev' в целевой и контрольной группах был выбран t-test. Перед проведением теста проверю допущения:"
   ]
  },
  {
   "cell_type": "code",
   "execution_count": 33,
   "metadata": {},
   "outputs": [
    {
     "name": "stdout",
     "output_type": "stream",
     "text": [
      "ShapiroResult(statistic=0.7353236079216003, pvalue=1.4986822893803264e-10)\n",
      "ShapiroResult(statistic=0.8547235727310181, pvalue=1.5437024585965894e-16)\n"
     ]
    }
   ],
   "source": [
    "# нормальность распределения (тест Шапиро-Уилка):\n",
    "\n",
    "print(stats.shapiro(group_a['rev']))\n",
    "\n",
    "print(stats.shapiro(group_b['rev']))"
   ]
  },
  {
   "cell_type": "markdown",
   "metadata": {},
   "source": [
    "Результаты теста Шапиро-Уилка однозначно показывают, что распределения НЕ являются нормальными в обеих группах. Но считается, что для малых размеров выборок (обычно < 30) нормальность данных достаточно критична для t-теста. Однако для таких масштабов, с которыми работает индустрия, это не особо важно: основой t-теста является ЦПТ, а она работает даже с ненормальными ГС. В данном исследовании выборки в группах размером > 30, поэтому результатами нормальности можно пренебречь."
   ]
  },
  {
   "cell_type": "code",
   "execution_count": 34,
   "metadata": {},
   "outputs": [
    {
     "name": "stdout",
     "output_type": "stream",
     "text": [
      "\n",
      "P-значение = 0.0803\n",
      "Дисперсии не различаются (t-тест с equal_var=True)\n"
     ]
    }
   ],
   "source": [
    "# проверяю равенство дисперсий с помощью теста Левена\n",
    "\n",
    "levene_stat, levene_p = stats.levene(group_a['rev'], group_b['rev'])\n",
    "\n",
    "print(f\"\\nP-значение = {levene_p:.4f}\")\n",
    "\n",
    "if levene_p < 0.05:\n",
    "\n",
    "    equal_var_flag = False\n",
    "\n",
    "    print(\"Значимое различие (t-тест с equal_var=False)\")\n",
    "\n",
    "else:\n",
    "\n",
    "    equal_var_flag = True\n",
    "\n",
    "    print(\"Дисперсии не различаются (t-тест с equal_var=True)\")"
   ]
  },
  {
   "cell_type": "code",
   "execution_count": 35,
   "metadata": {},
   "outputs": [
    {
     "name": "stdout",
     "output_type": "stream",
     "text": [
      "p-value для разницы средних чеков: 0.0019\n",
      "Разница статистически значима (p < 0.05)\n"
     ]
    }
   ],
   "source": [
    "# использую t-test для среднего чека:\n",
    "\n",
    "B = group_b[group_b['rev'] > 0]['rev']\n",
    "\n",
    "A = group_a[group_a['rev'] > 0]['rev']\n",
    "\n",
    "t_stat, p_value = stats.ttest_ind(A, B, equal_var=True)\n",
    "\n",
    "print(f\"p-value для разницы средних чеков: {p_value:.4f}\")\n",
    "\n",
    "if p_value < 0.05:\n",
    "\n",
    "    print(\"Разница статистически значима (p < 0.05)\")\n",
    "\n",
    "else:\n",
    "\n",
    "    print(\"Разница статистически НЕ значима (p >= 0.05)\")"
   ]
  },
  {
   "cell_type": "markdown",
   "metadata": {},
   "source": [
    " Несмотря на то, что группа B демонстрирует более низкую конверсию, средний чек пользователя в этой группе \n",
    " превышает показатель группы A (+324,3), т.е. те кто платил - платили больше, и эта разница оказалась \n",
    " статистически значима."
   ]
  },
  {
   "cell_type": "code",
   "execution_count": 36,
   "metadata": {},
   "outputs": [
    {
     "name": "stdout",
     "output_type": "stream",
     "text": [
      "Z-статистика: 0.8374\n",
      "P-значение: 0.4024\n",
      "Разница не значима (p >= 0.05)\n"
     ]
    }
   ],
   "source": [
    "# использую Z-статистику для конверсии - тест для сравнения двух пропорций при больших объемах выборок:\n",
    "\n",
    "from statsmodels.stats.proportion import proportions_ztest\n",
    "\n",
    "# исходныe данныe:\n",
    "# cr_a = 5.1\n",
    "# cr_b = 4.6\n",
    "# all_a = 1538\n",
    "# all_b = 6803\n",
    "\n",
    "p_a = cr_a/100 * all_a\n",
    "p_b = cr_b/100 * all_b\n",
    "\n",
    "count = np.array([p_a, p_b])\n",
    "nobs = np.array([all_a, all_b])\n",
    "\n",
    "stat, pval = proportions_ztest(count, nobs)\n",
    "\n",
    "print(f\"Z-статистика: {stat:.4f}\")\n",
    "print(f\"P-значение: {pval:.4f}\")\n",
    "\n",
    "if pval < 0.05:\n",
    "    print(\"Разница статистически значима (p < 0.05)\")\n",
    "else:\n",
    "    print(\"Разница не значима (p >= 0.05)\")"
   ]
  },
  {
   "cell_type": "markdown",
   "metadata": {},
   "source": [
    "Несмотря на разницу конверсий в 0.5%, она статистически не значима, возможно, из-за относительно малого размера группы A.\n",
    "\n",
    ">Вывод на основе статистических результатов:\n",
    "\n",
    ">>Новая механика оплаты услуг не повлияла на долю оплачивающих пользователей, но те, кто совершил покупку, стали тратить больше. Это указывает на то, что изменения повлияли на поведение платящей аудитории, но не привлекли новых покупателей.\n",
    "\n",
    ">>Стоит ли запускать новую механику на всех пользователей? Нельзя однозначно рекомендовать. Однако, из-за увеличения среднего чека следует, что новая механика увеличила общую выручку, и возможно запуск будет оправдан. Но перед тем, как принимать решение, необходимо уточнить у команды, возможно есть какие-то ошибки в данных.\n",
    "\n"
   ]
  }
 ],
 "metadata": {
  "kernelspec": {
   "display_name": "Python 3",
   "language": "python",
   "name": "python3"
  },
  "language_info": {
   "codemirror_mode": {
    "name": "ipython",
    "version": 3
   },
   "file_extension": ".py",
   "mimetype": "text/x-python",
   "name": "python",
   "nbconvert_exporter": "python",
   "pygments_lexer": "ipython3",
   "version": "3.7.3"
  }
 },
 "nbformat": 4,
 "nbformat_minor": 4
}
