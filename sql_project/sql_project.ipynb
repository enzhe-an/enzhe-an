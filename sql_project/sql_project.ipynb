{
 "cells": [
  {
   "cell_type": "markdown",
   "metadata": {},
   "source": [
    "***Задание 2. SQL.***"
   ]
  },
  {
   "cell_type": "markdown",
   "metadata": {},
   "source": [
    "    ЗАДАЧА 1.\n",
    "\n",
    "    SELECT count(distinct st_id) \n",
    "      FROM ( \n",
    "    SELECT st_id, DATE_TRUNC('month', timest) AS month \n",
    "      FROM peas \n",
    "     WHERE correct = true \n",
    "     GROUP BY st_id, month \n",
    "    HAVING count(correct)>=20 \n",
    "    ) as st_cnt; "
   ]
  },
  {
   "cell_type": "markdown",
   "metadata": {},
   "source": [
    "    ЗАДАЧА 2.\n",
    "\n",
    "    WITH user_stud AS (\n",
    "    SELECT s.st_id,\n",
    "           s.test_grp,\n",
    "    (SELECT COUNT(p.correct) > 10 \n",
    "       FROM peas p \n",
    "      WHERE p.st_id = s.st_id AND p.correct = true) as active_st,\n",
    "    (SELECT COUNT(p.correct) >= 2 \n",
    "       FROM peas p \n",
    "      WHERE p.st_id = s.st_id AND p.correct = true AND p.subject = 'Math') as math_active_st,\n",
    "    COALESCE((SELECT SUM(f.money) \n",
    "                FROM final_project_check f \n",
    "               WHERE f.st_id = s.st_id), 0) as revenue,\n",
    "    (SELECT COUNT(*) > 0\n",
    "       FROM final_project_check f\n",
    "      WHERE f.st_id = s.st_id) as purchase,\n",
    "    (SELECT COUNT(*) > 0\n",
    "       FROM final_project_check f\n",
    "      WHERE f.st_id = s.st_id AND f.subject = 'Math') as math_purchase\n",
    "     FROM studs s\n",
    "    )\n",
    "\n",
    "    SELECT \n",
    "        test_grp,\n",
    "        SUM(revenue) / COUNT(*) as ARPU,\n",
    "        SUM(CASE WHEN active_st THEN revenue ELSE 0 END) / \n",
    "        SUM(CASE WHEN active_st THEN 1 ELSE 0 END) as ARPAU,\n",
    "        SUM(purchase::int) * 100.0 / COUNT(*) as CR,\n",
    "        SUM(CASE WHEN active_st THEN purchase::int ELSE 0 END) * 100.0 / \n",
    "        SUM(CASE WHEN active_st THEN 1 ELSE 0 END) as CR_active,\n",
    "        SUM(CASE WHEN math_active_st THEN math_purchase::int ELSE 0 END) * 100.0 / \n",
    "        SUM(CASE WHEN math_active_st THEN 1 ELSE 0 END) as CR_math\n",
    "      FROM user_stud\n",
    "     GROUP BY test_grp\n",
    "     ORDER BY test_grp;"
   ]
  }
 ],
 "metadata": {
  "kernelspec": {
   "display_name": "Python 3",
   "language": "python",
   "name": "python3"
  },
  "language_info": {
   "codemirror_mode": {
    "name": "ipython",
    "version": 3
   },
   "file_extension": ".py",
   "mimetype": "text/x-python",
   "name": "python",
   "nbconvert_exporter": "python",
   "pygments_lexer": "ipython3",
   "version": "3.7.3"
  }
 },
 "nbformat": 4,
 "nbformat_minor": 4
}
